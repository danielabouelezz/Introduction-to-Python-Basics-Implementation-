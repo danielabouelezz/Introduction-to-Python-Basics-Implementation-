{
 "cells": [
  {
   "cell_type": "markdown",
   "metadata": {},
   "source": [
    "### Extract Information Using Regular Expressions(RegEx)"
   ]
  },
  {
   "cell_type": "code",
   "execution_count": 1,
   "metadata": {},
   "outputs": [
    {
     "name": "stdout",
     "output_type": "stream",
     "text": [
      "<re.Match object; span=(0, 9), match='Analytics'>\n",
      "None\n"
     ]
    }
   ],
   "source": [
    "import re\n",
    "\n",
    "#match a word at the beginning of a string\n",
    "result = re.match(\"Analytics\", r'Analytics Vidhya is the largest data science community of India')\n",
    "print(result)\n",
    "\n",
    "result_2 = re.match('largest', r'Analytics Vidhya is the largest data science community of India')\n",
    "print(result_2)"
   ]
  },
  {
   "cell_type": "code",
   "execution_count": 2,
   "metadata": {},
   "outputs": [
    {
     "name": "stdout",
     "output_type": "stream",
     "text": [
      "Analytics\n"
     ]
    }
   ],
   "source": [
    "print(result.group())"
   ]
  },
  {
   "cell_type": "markdown",
   "metadata": {},
   "source": [
    "###### re.search() "
   ]
  },
  {
   "cell_type": "code",
   "execution_count": 3,
   "metadata": {},
   "outputs": [
    {
     "name": "stdout",
     "output_type": "stream",
     "text": [
      "founded\n"
     ]
    }
   ],
   "source": [
    "result = re.search('founded', r'Andrew NG founded coursera. He also founded deeplearing.ai')\n",
    "print(result.group())"
   ]
  },
  {
   "cell_type": "markdown",
   "metadata": {},
   "source": [
    "###### re.findall()\n",
    "\n",
    "It will return all the occurences of the pattern from the string. I would recommend you to use re.findall() always, it can work like both re.search() and re.match()"
   ]
  },
  {
   "cell_type": "code",
   "execution_count": 4,
   "metadata": {},
   "outputs": [
    {
     "name": "stdout",
     "output_type": "stream",
     "text": [
      "['founded', 'founded']\n"
     ]
    }
   ],
   "source": [
    "result = re.findall('founded', r'Andrew NG founded coursera. He also founded deeplearing.ai')\n",
    "print(result)"
   ]
  },
  {
   "cell_type": "markdown",
   "metadata": {},
   "source": [
    "###### Special sequences"
   ]
  },
  {
   "cell_type": "markdown",
   "metadata": {},
   "source": [
    "1- \\b returns a match where the specified pattern is at the end of a word"
   ]
  },
  {
   "cell_type": "code",
   "execution_count": 8,
   "metadata": {},
   "outputs": [
    {
     "name": "stdout",
     "output_type": "stream",
     "text": [
      "['ics', 'ics']\n"
     ]
    }
   ],
   "source": [
    "str = r'Analytics Vidhya is the largest Analytics community of India'\n",
    "\n",
    "# Check if there is any word that ends with 'est'\n",
    "x = re.findall(r\"ics\\b\", str)\n",
    "print(x)"
   ]
  },
  {
   "cell_type": "markdown",
   "metadata": {},
   "source": [
    "2 - \\d returns a match where the string contains digits(numbers from 0 -9)"
   ]
  },
  {
   "cell_type": "code",
   "execution_count": 9,
   "metadata": {},
   "outputs": [
    {
     "name": "stdout",
     "output_type": "stream",
     "text": [
      "['2', '1', '9']\n",
      "Yes, there is a t least one match\n"
     ]
    }
   ],
   "source": [
    "str = \"2 million monthly visits in jan' 19\"\n",
    "# check if the string contains any didgits (numbers from 0 - 9)\n",
    "x = re.findall(r'\\d', str)\n",
    "print(x)\n",
    "if(x):\n",
    "    print(\"Yes, there is a t least one match\")\n",
    "else:\n",
    "    print(\"No match\")"
   ]
  },
  {
   "cell_type": "code",
   "execution_count": 10,
   "metadata": {},
   "outputs": [
    {
     "name": "stdout",
     "output_type": "stream",
     "text": [
      "['2', '19']\n",
      "Yes, there is at least one match\n"
     ]
    }
   ],
   "source": [
    "str = \"2 million monthly visits in jan' 19\"\n",
    "# Check if the string contains any digits (numbers from 0 - 9)\n",
    "# adding '+' after '\\d' will continue to extract digits till encounter a space\n",
    "\n",
    "x = re.findall(r\"\\d+\", str)\n",
    "print(x)\n",
    "\n",
    "if(x):\n",
    "    print(\"Yes, there is at least one match\")\n",
    "else:\n",
    "    print(\"No match\")"
   ]
  },
  {
   "cell_type": "markdown",
   "metadata": {},
   "source": [
    "3 - \\D returns a match where the string does not contain any digit"
   ]
  },
  {
   "cell_type": "code",
   "execution_count": 11,
   "metadata": {},
   "outputs": [
    {
     "name": "stdout",
     "output_type": "stream",
     "text": [
      "[' ', 'm', 'i', 'l', 'l', 'i', 'o', 'n', ' ', 'm', 'o', 'n', 't', 'h', 'l', 'y', ' ', 'v', 'i', 's', 'i', 't', 's', ' ', 'i', 'n', ' ', 'j', 'a', 'n', \"'\", ' ']\n",
      "Yes, there is at least one match\n"
     ]
    }
   ],
   "source": [
    "str = \"2 million monthly visits in jan' 19\"\n",
    "# Check if the string contains any digits (numbers from 0 - 9)\n",
    "# adding '+' after '\\d' will continue to extract digits till encounter a space\n",
    "\n",
    "x = re.findall(r\"\\D\", str)\n",
    "print(x)\n",
    "\n",
    "if(x):\n",
    "    print(\"Yes, there is at least one match\")\n",
    "else:\n",
    "    print(\"No match\")"
   ]
  },
  {
   "cell_type": "code",
   "execution_count": 12,
   "metadata": {},
   "outputs": [
    {
     "name": "stdout",
     "output_type": "stream",
     "text": [
      "[\" million monthly visits in jan' \"]\n",
      "Yes, there is at least one match\n"
     ]
    }
   ],
   "source": [
    "str = \"2 million monthly visits in jan' 19\"\n",
    "# Check if the string contains any digits (numbers from 0 - 9)\n",
    "# adding '+' after '\\d' will continue to extract digits till encounter a space\n",
    "\n",
    "x = re.findall(r\"\\D+\", str)\n",
    "print(x)\n",
    "\n",
    "if(x):\n",
    "    print(\"Yes, there is at least one match\")\n",
    "else:\n",
    "    print(\"No match\")"
   ]
  },
  {
   "cell_type": "markdown",
   "metadata": {},
   "source": [
    "4 - \\w helps in extraction of alphanumeric characters only (characters from a to z. digits from 0-9. and the underscore _ charachter"
   ]
  },
  {
   "cell_type": "code",
   "execution_count": 13,
   "metadata": {},
   "outputs": [
    {
     "name": "stdout",
     "output_type": "stream",
     "text": [
      "['2', 'm', 'i', 'l', 'l', 'i', 'o', 'n', 'm', 'o', 'n', 't', 'h', 'l', 'y', 'v', 'i', 's', 'i', 't', 's', 'i', 'n', 'j', 'a', 'n', '1', '9']\n",
      "Yes, there is at least one match\n"
     ]
    }
   ],
   "source": [
    "str = \"2 million monthly visits in jan' 19\"\n",
    "# Check if the string contains any digits (numbers from 0 - 9)\n",
    "# adding '+' after '\\d' will continue to extract digits till encounter a space\n",
    "\n",
    "x = re.findall(r\"\\w\", str)\n",
    "print(x)\n",
    "\n",
    "if(x):\n",
    "    print(\"Yes, there is at least one match\")\n",
    "else:\n",
    "    print(\"No match\")"
   ]
  },
  {
   "cell_type": "code",
   "execution_count": 14,
   "metadata": {},
   "outputs": [
    {
     "name": "stdout",
     "output_type": "stream",
     "text": [
      "['2', 'million', 'monthly', 'visits', 'in', 'jan', '19']\n",
      "Yes, there is at least one match\n"
     ]
    }
   ],
   "source": [
    "str = \"2 million monthly visits in jan' 19\"\n",
    "# Check if the string contains any digits (numbers from 0 - 9)\n",
    "# adding '+' after '\\d' will continue to extract digits till encounter a space\n",
    "\n",
    "x = re.findall(r\"\\w+\", str)\n",
    "print(x)\n",
    "\n",
    "if(x):\n",
    "    print(\"Yes, there is at least one match\")\n",
    "else:\n",
    "    print(\"No match\")"
   ]
  },
  {
   "cell_type": "markdown",
   "metadata": {},
   "source": [
    "5 - \\W returns a math at evrery non alphanumeric character"
   ]
  },
  {
   "cell_type": "code",
   "execution_count": 15,
   "metadata": {},
   "outputs": [
    {
     "name": "stdout",
     "output_type": "stream",
     "text": [
      "[' ', ' ', ' ', ' ', ' ', \"'\", ' ']\n",
      "Yes, there is at least one match\n"
     ]
    }
   ],
   "source": [
    "str = \"2 million monthly visits in jan' 19\"\n",
    "# Check if the string contains any digits (numbers from 0 - 9)\n",
    "# adding '+' after '\\d' will continue to extract digits till encounter a space\n",
    "\n",
    "x = re.findall(r\"\\W\", str)\n",
    "print(x)\n",
    "\n",
    "if(x):\n",
    "    print(\"Yes, there is at least one match\")\n",
    "else:\n",
    "    print(\"No match\")"
   ]
  },
  {
   "cell_type": "markdown",
   "metadata": {},
   "source": [
    "####  Metacharacters\n",
    "Metacharacters are characters with a special meaning"
   ]
  },
  {
   "cell_type": "markdown",
   "metadata": {},
   "source": [
    "1 - **(.)** matches any character (except newline charachter)"
   ]
  },
  {
   "cell_type": "code",
   "execution_count": 18,
   "metadata": {},
   "outputs": [
    {
     "name": "stdout",
     "output_type": "stream",
     "text": [
      "['roh', 'roh']\n",
      "['roha', 'rohi']\n"
     ]
    }
   ],
   "source": [
    "str = \"rohan and rohit recently published a research paper!\"\n",
    "# Search for a strin that starts with \"ro\", followed by a certain number of characters\n",
    "\n",
    "x = re.findall(\"ro.\", str)\n",
    "x2 = re.findall(\"ro..\", str)\n",
    "\n",
    "print(x)\n",
    "print(x2)"
   ]
  },
  {
   "cell_type": "markdown",
   "metadata": {},
   "source": [
    "2 - **(^)** starts with given patterns"
   ]
  },
  {
   "cell_type": "code",
   "execution_count": 23,
   "metadata": {},
   "outputs": [
    {
     "name": "stdout",
     "output_type": "stream",
     "text": [
      "No match\n"
     ]
    }
   ],
   "source": [
    "str = \"Data Science\"\n",
    "\n",
    "x = re.findall(r\"^Science\", str)\n",
    "if(x):\n",
    "    print(\"Yes, the string starts with 'Data'\")\n",
    "else:\n",
    "    print(\"No match\")\n",
    "    "
   ]
  },
  {
   "cell_type": "code",
   "execution_count": 24,
   "metadata": {},
   "outputs": [
    {
     "name": "stdout",
     "output_type": "stream",
     "text": [
      "No match\n"
     ]
    }
   ],
   "source": [
    "str = \"Big Data\"\n",
    "\n",
    "x = re.findall(r\"^Data\", str)\n",
    "if(x):\n",
    "    print(\"Yes, the string starts with 'Data'\")\n",
    "else:\n",
    "    print(\"No match\")\n",
    "    "
   ]
  },
  {
   "cell_type": "markdown",
   "metadata": {},
   "source": [
    "3 - **($)** checks if the string ends with given pattern"
   ]
  },
  {
   "cell_type": "code",
   "execution_count": 26,
   "metadata": {},
   "outputs": [
    {
     "name": "stdout",
     "output_type": "stream",
     "text": [
      "Yes, the string ends with 'Science'\n"
     ]
    }
   ],
   "source": [
    "str = \"Data Science\"\n",
    "\n",
    "x = re.findall(r\"Science$\", str)\n",
    "if(x):\n",
    "    print(\"Yes, the string ends with 'Science'\")\n",
    "else:\n",
    "    print(\"No match\")\n",
    "    "
   ]
  },
  {
   "cell_type": "markdown",
   "metadata": {},
   "source": [
    "4 - **(*)** matches for zero or more occurences of the pattern to the left of it"
   ]
  },
  {
   "cell_type": "code",
   "execution_count": 27,
   "metadata": {},
   "outputs": [
    {
     "name": "stdout",
     "output_type": "stream",
     "text": [
      "['easy', 'easssy', 'eay']\n",
      "Yes, there is at least one match\n"
     ]
    }
   ],
   "source": [
    "str = \"easy easssy eay ey\"\n",
    "\n",
    "x = re.findall(\"eas*y\", str)\n",
    "print(x)\n",
    "if(x):\n",
    "    print(\"Yes, there is at least one match\")\n",
    "else:\n",
    "    print(\"No match\")"
   ]
  },
  {
   "cell_type": "markdown",
   "metadata": {},
   "source": [
    "5 **(+)** matches one or more occurences of the pattern to the left of it"
   ]
  },
  {
   "cell_type": "code",
   "execution_count": 28,
   "metadata": {},
   "outputs": [
    {
     "name": "stdout",
     "output_type": "stream",
     "text": [
      "['easy', 'easssy']\n",
      "Yes, there is at least one match\n"
     ]
    }
   ],
   "source": [
    "str = \"easy easssy eay ey\"\n",
    "\n",
    "x = re.findall(\"eas+y\", str)\n",
    "print(x)\n",
    "if(x):\n",
    "    print(\"Yes, there is at least one match\")\n",
    "else:\n",
    "    print(\"No match\")"
   ]
  },
  {
   "cell_type": "markdown",
   "metadata": {},
   "source": [
    "6- **(?)** matches zero or one occurences of the pattern left ot it"
   ]
  },
  {
   "cell_type": "code",
   "execution_count": 29,
   "metadata": {},
   "outputs": [
    {
     "name": "stdout",
     "output_type": "stream",
     "text": [
      "['easy', 'eay']\n",
      "Yes, there is at least one match\n"
     ]
    }
   ],
   "source": [
    "str = \"easy easssy eay ey\"\n",
    "\n",
    "x = re.findall(\"eas?y\", str)\n",
    "print(x)\n",
    "if(x):\n",
    "    print(\"Yes, there is at least one match\")\n",
    "else:\n",
    "    print(\"No match\")"
   ]
  },
  {
   "cell_type": "markdown",
   "metadata": {},
   "source": [
    "7- **|** either or"
   ]
  },
  {
   "cell_type": "code",
   "execution_count": 30,
   "metadata": {},
   "outputs": [
    {
     "name": "stdout",
     "output_type": "stream",
     "text": [
      "['India']\n",
      "Yes, there is at least one match\n"
     ]
    }
   ],
   "source": [
    "str = r'Analytics Vidhya is the largest Analytics community of India'\n",
    "\n",
    "x = re.findall(\"data|India\", str)\n",
    "print(x)\n",
    "\n",
    "if(x):\n",
    "    print(\"Yes, there is at least one match\")\n",
    "else:\n",
    "    print(\"No match\")"
   ]
  },
  {
   "cell_type": "markdown",
   "metadata": {},
   "source": [
    "####  Sets\n",
    "A set is a bunch of characters inside a pair of square brackets[]"
   ]
  },
  {
   "cell_type": "code",
   "execution_count": 31,
   "metadata": {},
   "outputs": [
    {
     "name": "stdout",
     "output_type": "stream",
     "text": [
      "['y', 'd', 'h', 'y', 'h', 'y', 'y', 'd']\n",
      "Yes, there is at least one match\n"
     ]
    }
   ],
   "source": [
    "str = 'Analytics Vidhya is the largest Analytics community of India'\n",
    "\n",
    "x = re.findall(\"[ydh]\", str)\n",
    "print(x)\n",
    "\n",
    "if(x):\n",
    "    print(\"Yes, there is at least one match\")\n",
    "else:\n",
    "    print(\"No match\")"
   ]
  },
  {
   "cell_type": "markdown",
   "metadata": {},
   "source": [
    "##### example "
   ]
  },
  {
   "cell_type": "code",
   "execution_count": 32,
   "metadata": {},
   "outputs": [
    {
     "name": "stdout",
     "output_type": "stream",
     "text": [
      "['230']\n",
      "Yes, there is at least one match\n"
     ]
    }
   ],
   "source": [
    "str = \"Mars's average distance from the Sun is roughly 230 million km and its orbital period is 687 (Earth) datys\"\n",
    "# extract the numbers starting with 0 to 4 from the above string\n",
    "x = re.findall(r\"[0-4]\\d+\", str)\n",
    "\n",
    "print(x)\n",
    "\n",
    "if(x):\n",
    "    print(\"Yes, there is at least one match\")\n",
    "else:\n",
    "    print(\"No match\")"
   ]
  }
 ],
 "metadata": {
  "kernelspec": {
   "display_name": "Python 3",
   "language": "python",
   "name": "python3"
  },
  "language_info": {
   "codemirror_mode": {
    "name": "ipython",
    "version": 3
   },
   "file_extension": ".py",
   "mimetype": "text/x-python",
   "name": "python",
   "nbconvert_exporter": "python",
   "pygments_lexer": "ipython3",
   "version": "3.8.3"
  }
 },
 "nbformat": 4,
 "nbformat_minor": 4
}
